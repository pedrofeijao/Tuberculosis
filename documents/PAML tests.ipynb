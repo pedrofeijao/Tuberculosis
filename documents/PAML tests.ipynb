{
 "cells": [
  {
   "cell_type": "markdown",
   "metadata": {},
   "source": [
    "Experiments on PAML\n",
    "=========\n",
    "- Author: Fang Zhang\n",
    "- Date: 2016.8.8\n",
    "- E-mail: fza34@sfu.ca\n",
    "\n",
    "Defferences between ancestral sequences with different parameters:\n",
    "\n",
    "|               | GTR verbose0 | GTR verbose2 | JC69 verbose0 | JC69 verbose2 |\n",
    "|---------------|--------------|--------------|---------------|---------------|\n",
    "| GTR verbose0  | 0            | [5006]       | [4240, 5006]  | [4240, 5006]  |\n",
    "| GTR verbose2  | [5006]       | 0            | [4240]        | [4240]        |\n",
    "| JC69 verbose0 | [4240, 5006] | [4240]       | 0             | 0             |\n",
    "| JC69 verbose2 | [4240, 5006] | [4240]       | 0             | 0             |\n",
    "|               |              |              |               |               |\n",
    "|               | GTR verbose0 | GTR verbose2 | JC69 verbose0 | JC69 verbose2 |\n",
    "| reference      | 1145         | 1146         | 1145         | 1145          |\n",
    "\n",
    "TB substitution model\n",
    "\n",
    "|   | T         | C         | A         | G         |\n",
    "|---|-----------|-----------|-----------|-----------|\n",
    "| T | -1.431439 | 1.022812  | 0.111886  | 0.296741  |\n",
    "| C | 0.534936  | -0.854108 | 0.171457  | 0.147715  |\n",
    "| A | 0.111859  | 0.327753  | -1.306291 | 0.866679  |\n",
    "| G | 0.155777  | 0.148266  | 0.455078  | -0.759121 |\n",
    "\n",
    "mutation_spectrum\n",
    "\n",
    "|   | T       | C       | A       | G      |\n",
    "|---|---------|---------|---------|--------|\n",
    "| T | 0     | 0.7145 | 0.0782 | 0.2073 |\n",
    "| C | 0.6263 | 0    | 0.2007 | 0.1730 |\n",
    "| A | 0.0856 | 0.2509 | 0     | 0.6635 |\n",
    "| G | 0.2052 | 0.1953 | 0.5995 | 0      |\n",
    "\n",
    "smoothed mutation_spectrum\n",
    "\n",
    "|   | T       | C       | A       | G      |\n",
    "|---|---------|---------|---------|--------|\n",
    "| T | 0     | 0.6265 | 0.1371 | 0.2364 |\n",
    "| C | 0.5587 | 0    | 0.2313 | 0.2100 |\n",
    "| A | 0.1428 | 0.2699 | 0     | 0.5873 |\n",
    "| G | 0.2348 | 0.2272 | 0.53815 | 0      |\n",
    "\n"
   ]
  },
  {
   "cell_type": "code",
   "execution_count": null,
   "metadata": {
    "collapsed": true
   },
   "outputs": [],
   "source": []
  }
 ],
 "metadata": {
  "kernelspec": {
   "display_name": "Python 2",
   "language": "python",
   "name": "python2"
  },
  "language_info": {
   "codemirror_mode": {
    "name": "ipython",
    "version": 2
   },
   "file_extension": ".py",
   "mimetype": "text/x-python",
   "name": "python",
   "nbconvert_exporter": "python",
   "pygments_lexer": "ipython2",
   "version": "2.7.11"
  }
 },
 "nbformat": 4,
 "nbformat_minor": 0
}
