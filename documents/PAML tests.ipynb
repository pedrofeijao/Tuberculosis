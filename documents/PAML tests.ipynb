{
 "cells": [
  {
   "cell_type": "markdown",
   "metadata": {},
   "source": [
    "Experiments on PAML\n",
    "=========\n",
    "- Author: Fang Zhang\n",
    "- Date: 2016.8.8\n",
    "- E-mail: fza34@sfu.ca\n",
    "\n",
    "Defferences between ancestral sequences with different parameters:\n",
    "\n",
    "|               | GTR verbose0 | GTR verbose2 | JC69 verbose0 | JC69 verbose2 |\n",
    "|---------------|--------------|--------------|---------------|---------------|\n",
    "| GTR verbose0  | 0            | [5006]       | [4240, 5006]  | [4240, 5006]  |\n",
    "| GTR verbose2  | [5006]       | 0            | [4240]        | [4240]        |\n",
    "| JC69 verbose0 | [4240, 5006] | [4240]       | 0             | 0             |\n",
    "| JC69 verbose2 | [4240, 5006] | [4240]       | 0             | 0             |\n",
    "|               |              |              |               |               |\n",
    "|               | GTR verbose0 | GTR verbose2 | JC69 verbose0 | JC69 verbose2 |\n",
    "| refrence      | 1145         | 1146         | 1145         | 1145          |"
   ]
  },
  {
   "cell_type": "code",
   "execution_count": null,
   "metadata": {
    "collapsed": true
   },
   "outputs": [],
   "source": []
  }
 ],
 "metadata": {
  "kernelspec": {
   "display_name": "Python 2",
   "language": "python",
   "name": "python2"
  },
  "language_info": {
   "codemirror_mode": {
    "name": "ipython",
    "version": 2
   },
   "file_extension": ".py",
   "mimetype": "text/x-python",
   "name": "python",
   "nbconvert_exporter": "python",
   "pygments_lexer": "ipython2",
   "version": "2.7.11"
  }
 },
 "nbformat": 4,
 "nbformat_minor": 0
}
