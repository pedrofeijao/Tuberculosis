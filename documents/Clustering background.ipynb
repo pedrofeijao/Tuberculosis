{
 "cells": [
  {
   "cell_type": "markdown",
   "metadata": {},
   "source": [
    "Clustering\n",
    "=========\n",
    "- Author: Fang Zhang\n",
    "- Date: 2016.11.17\n",
    "- E-mail: fza34@sfu.ca\n",
    "\n",
    "Distance Profile using random model\n",
    "=========\n",
    "\n",
    "   ![](https://raw.githubusercontent.com/zhangfang615/Tuberculosis/master/simulation/distance%20profile%20random.png)\n",
    "   It look like Gaussian distribution.\n",
    "\n",
    "Histogram of Clusters' size \n",
    "=========\n",
    "\n",
    "-1 All clusters\n",
    "\n",
    "   ![](https://raw.githubusercontent.com/zhangfang615/Tuberculosis/master/simulation/cluster_number_all.png)\n",
    "   \n",
    "-2 Resistant clusters\n",
    "\n",
    "   ![](https://raw.githubusercontent.com/zhangfang615/Tuberculosis/master/simulation/cluster_number_resi.png)\n",
    "\n",
    "-3 Unresistant clusters\n",
    "\n",
    "   ![](https://raw.githubusercontent.com/zhangfang615/Tuberculosis/master/simulation/cluster_number_unresi.png)"
   ]
  },
  {
   "cell_type": "code",
   "execution_count": null,
   "metadata": {
    "collapsed": true
   },
   "outputs": [],
   "source": []
  }
 ],
 "metadata": {
  "kernelspec": {
   "display_name": "Python 2",
   "language": "python",
   "name": "python2"
  },
  "language_info": {
   "codemirror_mode": {
    "name": "ipython",
    "version": 2
   },
   "file_extension": ".py",
   "mimetype": "text/x-python",
   "name": "python",
   "nbconvert_exporter": "python",
   "pygments_lexer": "ipython2",
   "version": "2.7.11"
  }
 },
 "nbformat": 4,
 "nbformat_minor": 0
}
