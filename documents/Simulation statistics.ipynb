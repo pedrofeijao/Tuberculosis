{
 "cells": [
  {
   "cell_type": "markdown",
   "metadata": {},
   "source": [
    "Statistics on simulation\n",
    "=========\n",
    "- Author: Fang Zhang\n",
    "- Date: 2016.9.20\n",
    "- E-mail: fza34@sfu.ca\n",
    "\n",
    "Statistics\n",
    "1. Resistant patients.\n",
    "   \n",
    "   ![](https://raw.githubusercontent.com/zhangfang615/Tuberculosis/master/simulation/resistant_10.jpg)\n",
    "   \n",
    "   - With reinfection rate changes from 0.001 to 0.4, resistant patients ratio is steady around 42 when resistant rate is above 0.01.\n",
    "   - The mean number of resistant patients declines with the rise of removal rate.\n",
    " \n",
    "2. Resistant patients from transmission.\n",
    "\n",
    "    ![](https://raw.githubusercontent.com/zhangfang615/Tuberculosis/master/simulation/resi_trans.jpg)\n",
    "    - When time span is above 10, for different reinfection rate, resistant patients ratio from transmission achieve highest value when resistant rate is 0.05. When time span rises, for different reinfection rate, resistant rate is becoming smaller that makes resistant patients ratio from transmission highest.\n",
    "    - Resistant patients ratio from transmission rises with reinfection rate.\n",
    "    - Resistant patients ratio from transmission rises with time span.\n",
    "    - Number of patients from transmission declines with removal rate.\n",
    " \n",
    "3. Resistant patients from acquisition.\n",
    "\n",
    "    ![](https://raw.githubusercontent.com/zhangfang615/Tuberculosis/master/simulation/resi_acq.jpg)\n",
    "    - Looks like Figure 1.\n",
    "    \n",
    "4. Resistant patients caused by multiple events.\n",
    "\n",
    "    ![](https://raw.githubusercontent.com/zhangfang615/Tuberculosis/master/resi_mevent.jpg)\n",
    "    - Resistant patients caused by multiple events ratio increases with time span rises.\n",
    "    - Resistant patients caused by multiple events ratio slightly increases with reinfection rate rising.\n",
    "    - Resistant patients caused by multiple events ratio increases with resistant rate rises, but will be steady when resistant rate is avove 0.1.\n",
    "    - Number of resistant patients caused by multiple events declines with the rise of removal rate.\n",
    "\n",
    "5. Unresistant patients once resistant.\n",
    "\n",
    "    ![](https://raw.githubusercontent.com/zhangfang615/Tuberculosis/master/simulation/unresi_oncere.jpg)\n",
    "    - Rato of unresistant patients once resistant increases with the rise of reinfection rate.\n",
    "    - Rato of unresistant patients once resistant increases with the rise of time span.\n",
    "    - When resistant rate is smaller than some value, rato and number of unresistant patients once resistant increase with the rise of resistant rate. When resistant rate is larger than this value, rato and number of unresistant patients once resistant increase with the rise of resistant rate.\n",
    "    -  number of unresistant patients once resistant decrease with the rise of removal rate."
   ]
  },
  {
   "cell_type": "code",
   "execution_count": null,
   "metadata": {
    "collapsed": true
   },
   "outputs": [],
   "source": []
  }
 ],
 "metadata": {
  "kernelspec": {
   "display_name": "Python 2",
   "language": "python",
   "name": "python2"
  },
  "language_info": {
   "codemirror_mode": {
    "name": "ipython",
    "version": 2
   },
   "file_extension": ".py",
   "mimetype": "text/x-python",
   "name": "python",
   "nbconvert_exporter": "python",
   "pygments_lexer": "ipython2",
   "version": "2.7.11"
  }
 },
 "nbformat": 4,
 "nbformat_minor": 0
}
