{
 "cells": [
  {
   "cell_type": "markdown",
   "metadata": {},
   "source": [
    "New model\n",
    "=========\n",
    "- Author: Fang Zhang\n",
    "- Date: 2016.10.13\n",
    "- E-mail: fza34@sfu.ca\n",
    "\n",
    "New model\n",
    "---------\n",
    "\n",
    "In this model, removed patient has probability to be replaced by an unresistant patient. (Regard it as a healthy people gets transmitted). If resistant ratio stays steady around 10%, removal rate should be equal to 9(resistant rate and transmission rate). The probability of replacing a removed patient (substitution rate) should be 9/19. Considering it needs time to get to 10%, these ratio are smoothed. \n",
    "\n",
    "Parameters\n",
    "---------\n",
    "\n",
    "- generation = 12\n",
    "- Time span = 120\n",
    "- resistant rate = 0.004\n",
    "- reinfect rate = 0.005\n",
    "- removal rate = 0.05\n",
    "- substitution rate = 0.75\n",
    "\n",
    "Result\n",
    "---------\n",
    "\n",
    "   ![](https://raw.githubusercontent.com/zhangfang615/Tuberculosis/master/simulation/statistics_time.jpeg)\n",
    "   \n",
    "20 generation simulation\n",
    "---------\n",
    "In this simulation, population in initialized at around 1 million (20 generation). Other parameters are below:\n",
    "\n",
    "- generation = 12\n",
    "- Time span = 100\n",
    "- resistant rate = 0.004\n",
    "- reinfect rate = 0.005\n",
    "- removal rate = 0.05\n",
    "- substitution rate = 0.75\n",
    "\n",
    "    ![](https://raw.githubusercontent.com/zhangfang615/Tuberculosis/master/statistics_20.jpeg)\n",
    "    \n",
    "The population was sampled every 1000 events. This picture shows that the resistant ratio is steady around 10% with these parameters by using this simulation model.\n",
    "\n",
    "20 generation simulation\n",
    "---------\n",
    "\n",
    "- sampling 0.001\n",
    "\n",
    "   ![](https://raw.githubusercontent.com/zhangfang615/Tuberculosis/master/histogram_0.001.png)\n",
    "\n",
    "- sampling 0.01\n",
    "\n",
    "   ![](https://raw.githubusercontent.com/zhangfang615/Tuberculosis/master/histogram_0.01.png)"
   ]
  },
  {
   "cell_type": "code",
   "execution_count": null,
   "metadata": {
    "collapsed": true
   },
   "outputs": [],
   "source": []
  },
  {
   "cell_type": "code",
   "execution_count": null,
   "metadata": {
    "collapsed": true
   },
   "outputs": [],
   "source": []
  },
  {
   "cell_type": "code",
   "execution_count": null,
   "metadata": {
    "collapsed": true
   },
   "outputs": [],
   "source": []
  }
 ],
 "metadata": {
  "kernelspec": {
   "display_name": "Python 2",
   "language": "python",
   "name": "python2"
  },
  "language_info": {
   "codemirror_mode": {
    "name": "ipython",
    "version": 2
   },
   "file_extension": ".py",
   "mimetype": "text/x-python",
   "name": "python",
   "nbconvert_exporter": "python",
   "pygments_lexer": "ipython2",
   "version": "2.7.11"
  }
 },
 "nbformat": 4,
 "nbformat_minor": 0
}
